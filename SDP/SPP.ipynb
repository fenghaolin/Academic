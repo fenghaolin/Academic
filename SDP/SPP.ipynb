{
 "cells": [
  {
   "cell_type": "markdown",
   "id": "2746759b",
   "metadata": {},
   "source": [
    "# Demostrate the DP algorithm on the shortest path problem of an acyclic network\n",
    "* Suppose T is a network with directed arc. We start from origin $s$, and want to go to the destination $t$.\n",
    "* We want to find the best route, we can define, on each node $i$ that\n",
    "    * $f(i)$ is the lenght of the shortest path from $i$ to $t$\n",
    "* Then, the DP formulation says: $f(i) = \\min_j \\{f(i) + d_{ij}\\}$, where $d_{ij}$ is the length of the arc from $i$ to $j$\n",
    "* If the network is acyclic, we can always re-label the nodes so that, an directed arc $(i, j)$ belongs to the network implies $i<j$. The next figure is such an example\n",
    "<img src ='../fig/ShortestPathDemoEg2.png' alt ='acylic-network' width=\"500\">\n",
    "* With such a re-labelling, one way to solve the problem is to work backward from the destination.\n",
    "    * $f(t)=0$ by definition\n",
    "    * Walking backward from $i=t-1$ to $i=s\\equiv 1$: \n",
    "        * $f(i) = \\min_{j>i} \\{f(i) + d_{ij}\\}$\n",
    "        * let $u(i)$ be the next stop from $i$ to $t$ on the shortest route. Then $u(i) = \\arg\\min_{j>i} \\{f(i) + d_{ij}\\}$\n",
    "* Using the above figure's example, we will write demonstrate the solution\n",
    "* We will use two different reprentation of the network: dictionary and np.ndarray (like a matrix)"
   ]
  },
  {
   "cell_type": "markdown",
   "id": "58e04a29",
   "metadata": {},
   "source": [
    "## Using a dictionary representation of the graph"
   ]
  },
  {
   "cell_type": "code",
   "execution_count": 1,
   "id": "5341f49a",
   "metadata": {},
   "outputs": [],
   "source": [
    "# the data of the graph\n",
    "nodes = {i for i in range(0,9+1)}\n",
    "T= dict()\n",
    "T[0]={1:2,2:5}\n",
    "T[1]={2:1,3:2}\n",
    "T[2]={4:6,5:12}\n",
    "T[3]={4:3,6:4}\n",
    "T[4]={5:4, 6:3, 7:15, 8:7}\n",
    "T[5]={7:7}\n",
    "T[6]={8:7,9:15}\n",
    "T[7]={9:3}\n",
    "T[8]={9:10}\n",
    "T[9]={9:0} #destination, can be skipped"
   ]
  },
  {
   "cell_type": "code",
   "execution_count": 2,
   "id": "c4c301d6",
   "metadata": {},
   "outputs": [],
   "source": [
    "def SPP(s, t, T):    \n",
    "    '''Solving the Shortest path from s to t\n",
    "    Input:\n",
    "        s: label of the starting point of T\n",
    "        t: label of the destination of T\n",
    "        T: the dict representation of network with directed arcs\n",
    "            T[i] itself if a dictionary representing the j:d_ij of arc from i to j\n",
    "    Assume: 1. for any arc (i,j), i<j; \n",
    "            2. t is the end point. s can be any point desired\n",
    "    Return a dict such that sol[i]=(best_next_point_towards_j, len_best_route)\n",
    "    '''\n",
    "    sol = {k:(0,0) for k in T} #initialize solution\n",
    "    sol[t] = (t,0) #from t the next step t with length zero\n",
    "    for i in range(t-1, s-1,-1):\n",
    "        best_val, best_j = float('inf'), None\n",
    "        for j, dij in T[i].items():\n",
    "            tmp = sol[j][1] + dij\n",
    "            if best_val > tmp:\n",
    "                best_val = tmp\n",
    "                best_j = j\n",
    "        sol[i] = (best_j,best_val)\n",
    "    return sol"
   ]
  },
  {
   "cell_type": "code",
   "execution_count": 3,
   "id": "e26b03ac",
   "metadata": {},
   "outputs": [],
   "source": [
    "sol = SPP(s=0,t=9, T=T)"
   ]
  },
  {
   "cell_type": "code",
   "execution_count": 4,
   "id": "6209a91b",
   "metadata": {},
   "outputs": [
    {
     "data": {
      "text/plain": [
       "{0: (1, 21),\n",
       " 1: (3, 19),\n",
       " 2: (4, 20),\n",
       " 3: (4, 17),\n",
       " 4: (5, 14),\n",
       " 5: (7, 10),\n",
       " 6: (9, 15),\n",
       " 7: (9, 3),\n",
       " 8: (9, 10),\n",
       " 9: (9, 0)}"
      ]
     },
     "execution_count": 4,
     "metadata": {},
     "output_type": "execute_result"
    }
   ],
   "source": [
    "sol"
   ]
  },
  {
   "cell_type": "code",
   "execution_count": 5,
   "id": "0d86e2e9",
   "metadata": {},
   "outputs": [],
   "source": [
    "def length_route(route,T):\n",
    "    '''Given a route as an ordered sequence from some node to another\n",
    "    Return the length of the route\n",
    "    T is the dict representation of the graph\n",
    "    '''\n",
    "    length = 0\n",
    "    for k in range(len(route)-1):\n",
    "        i,j=route[k], route[k+1]\n",
    "        try:\n",
    "            length += T[i][j]\n",
    "        except: #T[i][j] not exists, the route is invalid\n",
    "            print(f'route {i}->{j} is not valid in T')\n",
    "            return float('inf') #length = inf\n",
    "    return length"
   ]
  },
  {
   "cell_type": "code",
   "execution_count": 6,
   "id": "1a4c5b94",
   "metadata": {},
   "outputs": [],
   "source": [
    "def verify_sol(sol,s,t,T):\n",
    "    '''Given a solution sol, verify whether\n",
    "    the route from s to t indicated by sol has the same len as sol[s][1]\n",
    "    return True if yes, otherwise return False\n",
    "    '''\n",
    "    ZERO = 1e-10 #numerical zero\n",
    "    route = [s]\n",
    "    i = s\n",
    "    while i!=t:\n",
    "        j = sol[i][0]\n",
    "        route.append(j)\n",
    "        i = j #move to j\n",
    "    return abs(sol[s][1]-length_route(route,T))<ZERO"
   ]
  },
  {
   "cell_type": "code",
   "execution_count": 7,
   "id": "1a3ee2fc",
   "metadata": {},
   "outputs": [
    {
     "data": {
      "text/plain": [
       "21"
      ]
     },
     "execution_count": 7,
     "metadata": {},
     "output_type": "execute_result"
    }
   ],
   "source": [
    "length_route((0,1,3,4,5,7,9),T)"
   ]
  },
  {
   "cell_type": "code",
   "execution_count": 8,
   "id": "ed3115a5",
   "metadata": {},
   "outputs": [
    {
     "name": "stdout",
     "output_type": "stream",
     "text": [
      "for node 0, Is length of path in sol valid? True\n",
      "for node 1, Is length of path in sol valid? True\n",
      "for node 2, Is length of path in sol valid? True\n",
      "for node 3, Is length of path in sol valid? True\n",
      "for node 4, Is length of path in sol valid? True\n",
      "for node 5, Is length of path in sol valid? True\n",
      "for node 6, Is length of path in sol valid? True\n",
      "for node 7, Is length of path in sol valid? True\n",
      "for node 8, Is length of path in sol valid? True\n",
      "for node 9, Is length of path in sol valid? True\n"
     ]
    }
   ],
   "source": [
    "for i in nodes:\n",
    "    print(f'for node {i}, Is length of path in sol valid? {verify_sol(sol,i,9,T):}')"
   ]
  },
  {
   "cell_type": "markdown",
   "id": "483fe147",
   "metadata": {},
   "source": [
    "## Using a Matrix representation\n",
    "* T[i][j] is the length of the arc (i,j), except that i and j are now python indices (starting from 0)"
   ]
  },
  {
   "cell_type": "code",
   "execution_count": 9,
   "id": "223947e7",
   "metadata": {},
   "outputs": [],
   "source": [
    "import numpy as np"
   ]
  },
  {
   "cell_type": "code",
   "execution_count": 10,
   "id": "1be46221",
   "metadata": {},
   "outputs": [],
   "source": [
    "def n2p(i): return i-1 #natural index to python index\n",
    "def p2n(i): return i+1 #convert python index to the natural one"
   ]
  },
  {
   "cell_type": "code",
   "execution_count": 11,
   "id": "71b2a529",
   "metadata": {},
   "outputs": [],
   "source": [
    "s, t = 0, 9\n",
    "nodes={i for i in range(s,t+1)}\n",
    "N = len(nodes)\n",
    "T = np.ones((N,N))*np.inf"
   ]
  },
  {
   "cell_type": "markdown",
   "id": "a2efcc1e",
   "metadata": {},
   "source": [
    "<img src = \"../fig/ShortestPathDemoEg2.png\" alt = \"shortest path demo\" width = \"500\">"
   ]
  },
  {
   "cell_type": "code",
   "execution_count": 12,
   "id": "d3aa6e9c",
   "metadata": {},
   "outputs": [],
   "source": [
    "T[0,1] = 2; T[0,2] = 5\n",
    "T[1,2] = 1; T[1,3] = 2; \n",
    "T[2,4] = 6; T[2,5] = 12;\n",
    "T[3,4] = 3; T[3,6] = 4;\n",
    "T[4,5] = 4; T[4,6] = 3; T[4,7] = 15; T[4,8] = 7;\n",
    "T[5,7] = 7;\n",
    "T[6,8] = 7; T[6,9] = 15;\n",
    "T[7,9] = 3;\n",
    "T[8,9] = 10;"
   ]
  },
  {
   "cell_type": "code",
   "execution_count": 13,
   "id": "1b398eb2",
   "metadata": {},
   "outputs": [],
   "source": [
    "def SSP_M(T):\n",
    "    '''\n",
    "    Solving the Shortest path from s to t \n",
    "    Input:\n",
    "        T: the matrix representation of network with directed arcs\n",
    "            T[i,j] is the length of arc (i,j)\n",
    "    Assume: 1. for any arc (i,j), i<j; \n",
    "            2. 0 is the starting point. np.shape(T)[0]-1 is the destination\n",
    "    Return two arrays:  \n",
    "        u[i]= from i to tbest point to move to \n",
    "        f[i]= length of best route from i to t\n",
    "    '''\n",
    "    N = np.shape(T)[0]\n",
    "    u, f = np.zeros(N,int), np.ones(N)*np.inf\n",
    "    u[-1], f[-1] = N-1, 0 # from destination to destination, no distance\n",
    "    for i in range(N-1-1,0-1, -1):\n",
    "        # since f[i] = \\min_{j>i} { f[j] + T[i,j] }\n",
    "        u[i] = np.argmin(f[i+1:] + T[i,i+1:]) + i+1\n",
    "        f[i] = f[u[i]] + T[i,u[i]]\n",
    "    return u, f"
   ]
  },
  {
   "cell_type": "code",
   "execution_count": 14,
   "id": "7ccca95a",
   "metadata": {},
   "outputs": [],
   "source": [
    "u, f = SSP_M(T)"
   ]
  },
  {
   "cell_type": "code",
   "execution_count": 15,
   "id": "060e674b",
   "metadata": {},
   "outputs": [
    {
     "data": {
      "text/plain": [
       "{0: (1, 21.0),\n",
       " 1: (3, 19.0),\n",
       " 2: (4, 20.0),\n",
       " 3: (4, 17.0),\n",
       " 4: (5, 14.0),\n",
       " 5: (7, 10.0),\n",
       " 6: (9, 15.0),\n",
       " 7: (9, 3.0),\n",
       " 8: (9, 10.0),\n",
       " 9: (9, 0.0)}"
      ]
     },
     "execution_count": 15,
     "metadata": {},
     "output_type": "execute_result"
    }
   ],
   "source": [
    "N = np.shape(T)[0]\n",
    "sol = {i:(u[i],f[i]) for i in range(N)}\n",
    "sol"
   ]
  }
 ],
 "metadata": {
  "kernelspec": {
   "display_name": "Python 3 (ipykernel)",
   "language": "python",
   "name": "python3"
  },
  "language_info": {
   "codemirror_mode": {
    "name": "ipython",
    "version": 3
   },
   "file_extension": ".py",
   "mimetype": "text/x-python",
   "name": "python",
   "nbconvert_exporter": "python",
   "pygments_lexer": "ipython3",
   "version": "3.9.7"
  }
 },
 "nbformat": 4,
 "nbformat_minor": 5
}
